{
 "cells": [
  {
   "cell_type": "code",
   "execution_count": 8,
   "metadata": {},
   "outputs": [
    {
     "name": "stdout",
     "output_type": "stream",
     "text": [
      "text length: 696\n",
      "Request failed with status code: 429\n",
      "null\n"
     ]
    }
   ],
   "source": [
    "import json\n",
    "from libs.catile import simplifier\n",
    "\n",
    "text = \"\"\"\n",
    "At the same time, UN agencies are also helping to provide emergency relief support, including the International Organization for Migration (IOM), whose Displacement Tracking Matrix (DTM) aims at assisting refugees and third country nationals who are desperately trying to flee fighting by escaping to neighbouring countries.\n",
    "\n",
    "Sudan’s national army and the Rapid Support Forces (RSF), a paramilitary unit, have been locked in a violent conflict since 15 April. According to the UN, more than 400 people have been killed in the fighting while tens of thousands of people are estimated to have been internally displaced, including more than 100,000 people who have fled to neighbouring countries.\n",
    "\n",
    "Mr. Sharma moved to Sudan in 2021 with his brother. At the time violence broke out, he was working at the Omega steel plant and living with 160 workers in a guest house on the company’s premises 15 kilometres outside the capital city of Khartoum.\n",
    "\n",
    "“We worked to clean the environment by recycling scrap metal. It had been almost two years since I had lived there, and things were going well. Unexpectedly, the conflict started there on 15 April. Both the military and the paramilitary fought amongst themselves, and the airport was shelled and burnt.\n",
    "\n",
    "When the airport was destroyed, we got worried about how we would return home to India. We were not even able to contact anyone in India. We were trying to establish contact with the Indian Embassy as well, but network problems made that difficult.\n",
    "\n",
    "Fighter planes flew over the guest house where we were staying, dropping ammunition and missiles.\n",
    "\n",
    "We were very worried about how to get to a safe place in Sudan.\n",
    "\"\"\"\n",
    "\n",
    "print(f\"text length: {len(text)}\")\n",
    "\n",
    "res = simplifier(text, 2)\n",
    "print(json.dumps(res, indent=2))"
   ]
  }
 ],
 "metadata": {
  "kernelspec": {
   "display_name": "base",
   "language": "python",
   "name": "python3"
  },
  "language_info": {
   "codemirror_mode": {
    "name": "ipython",
    "version": 3
   },
   "file_extension": ".py",
   "mimetype": "text/x-python",
   "name": "python",
   "nbconvert_exporter": "python",
   "pygments_lexer": "ipython3",
   "version": "3.10.9"
  },
  "orig_nbformat": 4
 },
 "nbformat": 4,
 "nbformat_minor": 2
}
